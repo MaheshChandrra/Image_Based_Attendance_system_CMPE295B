{
 "cells": [
  {
   "cell_type": "code",
   "execution_count": 1,
   "metadata": {},
   "outputs": [],
   "source": [
    "import os\n",
    "import pickle\n",
    "import numpy as np\n",
    "import cv2\n",
    "import face_recognition\n",
    "import cvzone\n",
    "import firebase_admin\n",
    "from firebase_admin import credentials\n",
    "from firebase_admin import db\n",
    "from firebase_admin import storage\n",
    "import numpy as np\n",
    "from datetime import datetime\n",
    "import matplotlib.pyplot as plt"
   ]
  },
  {
   "cell_type": "code",
   "execution_count": 10,
   "metadata": {},
   "outputs": [],
   "source": [
    "# Load the input image\n",
    "image = cv2.imread(\"Testing Image/team_img.jpeg\")\n",
    "\n",
    "# # Convert the input image from BGR to RGB color space\n",
    "# rgb_image = cv2.cvtColor(image, cv2.COLOR_BGR2RGB)\n",
    "\n",
    "# Detect all the faces in the image\n",
    "face_locations = face_recognition.face_locations(image)\n",
    "\n",
    "## Images from the group pic\n",
    "images_from_gp=[]\n",
    "\n",
    "# Loop over the face locations\n",
    "for face_location in face_locations:\n",
    "    # Extract the coordinates of the face location\n",
    "    top, right, bottom, left = face_location\n",
    "\n",
    "    # Crop the face from the input image\n",
    "    face_image = image[top:bottom, left:right]\n",
    "\n",
    "    # Display the extracted face image\n",
    "    # cv2.imshow(\"Face\", face_image)\n",
    "    # cv2.waitKey(0)\n",
    "    images_from_gp.append(face_image)\n",
    "\n",
    "\n",
    "\n",
    "\n",
    "# # Close all the windows\n",
    "# cv2.destroyAllWindows()"
   ]
  },
  {
   "cell_type": "code",
   "execution_count": 8,
   "metadata": {},
   "outputs": [
    {
     "name": "stdout",
     "output_type": "stream",
     "text": [
      "['mahesh001.PNG', 'rohit_001.PNG', 'shiva_001.PNG', 'trivikram_001.PNG']\n",
      "['mahesh001', 'rohit_001', 'shiva_001', 'trivikram_001']\n",
      "[INFO] Encoding Started for class: class_1\n",
      "[INFO] Encoding Started for class: class_1\n",
      "[INFO] Encodings saved for class class_1\n"
     ]
    }
   ],
   "source": [
    "import face_encoder\n",
    "import config\n",
    "\n",
    "CLASS_NAME=\"class_1\"\n",
    "\n",
    "face_encoder.generate_face_encodings(\"class_1\")"
   ]
  },
  {
   "cell_type": "code",
   "execution_count": 11,
   "metadata": {},
   "outputs": [
    {
     "name": "stdout",
     "output_type": "stream",
     "text": [
      "Loading Encode File ...\n"
     ]
    },
    {
     "ename": "NameError",
     "evalue": "name 'config' is not defined",
     "output_type": "error",
     "traceback": [
      "\u001b[1;31m---------------------------------------------------------------------------\u001b[0m",
      "\u001b[1;31mNameError\u001b[0m                                 Traceback (most recent call last)",
      "Cell \u001b[1;32mIn[11], line 4\u001b[0m\n\u001b[0;32m      2\u001b[0m \u001b[39mimport\u001b[39;00m \u001b[39mpickle\u001b[39;00m\n\u001b[0;32m      3\u001b[0m \u001b[39mprint\u001b[39m(\u001b[39m\"\u001b[39m\u001b[39mLoading Encode File ...\u001b[39m\u001b[39m\"\u001b[39m)\n\u001b[1;32m----> 4\u001b[0m EMBEDDINGS_PATH\u001b[39m=\u001b[39mconfig\u001b[39m.\u001b[39mFACE_EMBEDDINGS_PATH\u001b[39m+\u001b[39mCLASS_NAME\u001b[39m+\u001b[39m\u001b[39m\"\u001b[39m\u001b[39m.p\u001b[39m\u001b[39m\"\u001b[39m\n\u001b[0;32m      5\u001b[0m file \u001b[39m=\u001b[39m \u001b[39mopen\u001b[39m(EMBEDDINGS_PATH, \u001b[39m'\u001b[39m\u001b[39mrb\u001b[39m\u001b[39m'\u001b[39m)\n\u001b[0;32m      6\u001b[0m encodeListKnownWithIds \u001b[39m=\u001b[39m pickle\u001b[39m.\u001b[39mload(file)\n",
      "\u001b[1;31mNameError\u001b[0m: name 'config' is not defined"
     ]
    }
   ],
   "source": [
    "\n",
    "\n",
    "# Load the encoding file\n",
    "import pickle\n",
    "import config\n",
    "print(\"Loading Encode File ...\")\n",
    "EMBEDDINGS_PATH=config.FACE_EMBEDDINGS_PATH+CLASS_NAME+\".p\"\n",
    "file = open(EMBEDDINGS_PATH, 'rb')\n",
    "encodeListKnownWithIds = pickle.load(file)\n",
    "file.close()\n",
    "encodeListKnown, studentIds = encodeListKnownWithIds\n",
    "# print(studentIds)\n",
    "print(\"Encode File Loaded\")\n",
    "\n",
    "modeType = 0\n",
    "counter = 0\n",
    "id = -1\n",
    "imgStudent = []\n",
    "image_index=0\n",
    "\n",
    "while image_index<len(images_from_gp):\n",
    "    # success, img = cap.read()\n",
    "    img=images_from_gp[image_index]\n",
    "    imgS = cv2.resize(img, (0, 0), None, 0.25, 0.25)\n",
    "    imgS = cv2.cvtColor(imgS, cv2.COLOR_BGR2RGB)\n",
    "\n",
    "    faceCurFrame = face_recognition.face_locations(imgS)\n",
    "    encodeCurFrame = face_recognition.face_encodings(imgS, faceCurFrame)\n",
    "\n",
    "    # imgBackground[162:162 + 480, 55:55 + 640] = img\n",
    "    # imgBackground[44:44 + 633, 808:808 + 414] = imgModeList[modeType]\n",
    "\n",
    "    if faceCurFrame:\n",
    "        for encodeFace, faceLoc in zip(encodeCurFrame, faceCurFrame):\n",
    "            matches = face_recognition.compare_faces(encodeListKnown, encodeFace)\n",
    "            faceDis = face_recognition.face_distance(encodeListKnown, encodeFace)\n",
    "            print(\"matches\", matches)\n",
    "            print(\"faceDis\", faceDis)\n",
    "\n",
    "            matchIndex = np.argmin(faceDis)\n",
    "            print(\"Match Index\", matchIndex)\n",
    "\n",
    "            if matches[matchIndex]:\n",
    "                print(\"Known Face Detected\")\n",
    "                print(studentIds[matchIndex])\n",
    "                # y1, x2, y2, x1 = faceLoc\n",
    "                # y1, x2, y2, x1 = y1 * 4, x2 * 4, y2 * 4, x1 * 4\n",
    "                # bbox = 55 + x1, 162 + y1, x2 - x1, y2 - y1\n",
    "                # imgBackground = cvzone.cornerRect(imgBackground, bbox, rt=0)\n",
    "                id = studentIds[matchIndex]\n",
    "                # if counter == 0:\n",
    "                #     cvzone.putTextRect(imgBackground, \"Loading\", (275, 400))\n",
    "                #     cv2.imshow(\"Face Attendance\", imgBackground)\n",
    "                #     cv2.waitKey(1)\n",
    "                #     counter = 1\n",
    "                #     modeType = 1\n",
    "            image_index+=1\n"
   ]
  },
  {
   "cell_type": "code",
   "execution_count": null,
   "metadata": {},
   "outputs": [],
   "source": []
  },
  {
   "cell_type": "code",
   "execution_count": null,
   "metadata": {},
   "outputs": [],
   "source": []
  },
  {
   "cell_type": "code",
   "execution_count": null,
   "metadata": {},
   "outputs": [],
   "source": []
  },
  {
   "cell_type": "code",
   "execution_count": null,
   "metadata": {},
   "outputs": [],
   "source": []
  },
  {
   "cell_type": "code",
   "execution_count": null,
   "metadata": {},
   "outputs": [],
   "source": []
  }
 ],
 "metadata": {
  "kernelspec": {
   "display_name": "cmpe295b-project",
   "language": "python",
   "name": "python3"
  },
  "language_info": {
   "codemirror_mode": {
    "name": "ipython",
    "version": 3
   },
   "file_extension": ".py",
   "mimetype": "text/x-python",
   "name": "python",
   "nbconvert_exporter": "python",
   "pygments_lexer": "ipython3",
   "version": "3.8.0"
  },
  "orig_nbformat": 4,
  "vscode": {
   "interpreter": {
    "hash": "403070e62fc8292c6ba2661971a63f8702e963090dd931bb790bf7a51d4870f7"
   }
  }
 },
 "nbformat": 4,
 "nbformat_minor": 2
}
